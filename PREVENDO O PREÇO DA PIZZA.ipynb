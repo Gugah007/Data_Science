{
 "cells": [
  {
   "cell_type": "code",
   "execution_count": 15,
   "metadata": {},
   "outputs": [],
   "source": [
    "#Importando Matplotlib e Numpy\n",
    "import matplotlib.pyplot as plt\n",
    "import numpy as np\n",
    "%matplotlib inline"
   ]
  },
  {
   "cell_type": "markdown",
   "metadata": {},
   "source": [
    "### Vamos supor que você registrou o tamanho e preço de pizzas que você comeu nos últimos meses com a sua família."
   ]
  },
  {
   "cell_type": "markdown",
   "metadata": {},
   "source": [
    "<table class=\"ArticleTableNoBorder\">\n",
    "    <tbody>\n",
    "        <tr>\n",
    "            <td><strong>Instância</strong></td>\n",
    "            <td><strong>Diâmetro(cm)</strong></td>\n",
    "            <td><strong>Preço(R$)</strong></td>\n",
    "        </tr>\n",
    "        <tr>\n",
    "            <td><code>1</code></td>\n",
    "            <td>7</td>\n",
    "            <td>8</td>\n",
    "        </tr>\n",
    "        <tr>\n",
    "            <td><code>2</code></td>\n",
    "            <td>10</td>\n",
    "            <td>11</td>\n",
    "        </tr>\n",
    "        <tr>\n",
    "            <td><code>3</code></td>\n",
    "            <td>15</td>\n",
    "            <td>16</td>\n",
    "        </tr>\n",
    "        <tr>\n",
    "            <td><code>4</code></td>\n",
    "            <td>30</td>\n",
    "            <td>38.5</td>\n",
    "        </tr>\n",
    "        <tr>\n",
    "            <td><code>5</code></td>\n",
    "            <td>45</td>\n",
    "            <td>52</td>\n",
    "        </tr>\n",
    "    </tbody>\n",
    "</table>"
   ]
  },
  {
   "cell_type": "code",
   "execution_count": 20,
   "metadata": {},
   "outputs": [],
   "source": [
    "# Diâmetros (cm)\n",
    "Diametros = [[7], [10], [15], [30], [45]]\n",
    "\n",
    "#Preços (R$)\n",
    "Precos = [[8], [11], [16], [38.5], [52]]"
   ]
  },
  {
   "cell_type": "code",
   "execution_count": 21,
   "metadata": {},
   "outputs": [
    {
     "data": {
      "image/png": "[encoded data removed]",
      "text/plain": [
       "<Figure size 432x288 with 1 Axes>"
      ]
     },
     "metadata": {
      "needs_background": "light"
     },
     "output_type": "display_data"
    }
   ],
   "source": [
    "#Visualizar estes dados construindo um plot\n",
    "plt.figure()\n",
    "plt.xlabel('Diâmetro(cm)')\n",
    "plt.ylabel('Preço(R$)')\n",
    "plt.title('Diâmetro x Preço')\n",
    "plt.plot(Diametros, Precos, 'k.')\n",
    "plt.axis([0, 60, 0, 60])\n",
    "plt.grid(True)\n",
    "plt.show()"
   ]
  },
  {
   "cell_type": "code",
   "execution_count": 22,
   "metadata": {},
   "outputs": [],
   "source": [
    "#Importando o Scikit-learn\n",
    "import sklearn"
   ]
  },
  {
   "cell_type": "code",
   "execution_count": 23,
   "metadata": {},
   "outputs": [],
   "source": [
    "#Importando o módullo de Regressão Linear do Scikit-learn\n",
    "from sklearn.linear_model import LinearRegression"
   ]
  },
  {
   "cell_type": "code",
   "execution_count": 25,
   "metadata": {},
   "outputs": [],
   "source": [
    "# Preparando os dados de treino\n",
    "\n",
    "# Vamos chamar de X os dados de diâmetro da Pizza.\n",
    "X = [[7], [10], [15], [30], [45]]\n",
    "\n",
    "# Vamos chamar de Y os dados de preço da Pizza.\n",
    "Y = [[8], [11], [16], [38.5], [52]]"
   ]
  },
  {
   "cell_type": "code",
   "execution_count": 26,
   "metadata": {},
   "outputs": [],
   "source": [
    "# Criando o modelo\n",
    "modelo = LinearRegression()"
   ]
  },
  {
   "cell_type": "code",
   "execution_count": 28,
   "metadata": {},
   "outputs": [
    {
     "data": {
      "text/plain": [
       "sklearn.linear_model._base.LinearRegression"
      ]
     },
     "execution_count": 28,
     "metadata": {},
     "output_type": "execute_result"
    }
   ],
   "source": [
    "type(modelo)"
   ]
  },
  {
   "cell_type": "code",
   "execution_count": 29,
   "metadata": {},
   "outputs": [
    {
     "data": {
      "text/plain": [
       "LinearRegression()"
      ]
     },
     "execution_count": 29,
     "metadata": {},
     "output_type": "execute_result"
    }
   ],
   "source": [
    "# Treinando o modelo\n",
    "modelo.fit(X, Y)"
   ]
  },
  {
   "cell_type": "code",
   "execution_count": 30,
   "metadata": {},
   "outputs": [
    {
     "name": "stdout",
     "output_type": "stream",
     "text": [
      "Uma pizza de 20 cm de diâmetro deve custar: R$23.41\n"
     ]
    }
   ],
   "source": [
    "# Prevendo o preço de uma pizza de 20 cm de diâmetro\n",
    "\n",
    "# Não usamos mais esta sintaxe:\n",
    "# print(\"Uma pizza de 20 cm de diâmetro deve custar: R$%.2f\" % modelo.predict([20][0]))\n",
    "\n",
    "# Usamos agora esta sintaxe:\n",
    "print(\"Uma pizza de 20 cm de diâmetro deve custar: R$%.2f\" % modelo.predict([[20]]))"
   ]
  }
 ],
 "metadata": {
  "kernelspec": {
   "display_name": "Python 3",
   "language": "python",
   "name": "python3"
  },
  "language_info": {
   "codemirror_mode": {
    "name": "ipython",
    "version": 3
   },
   "file_extension": ".py",
   "mimetype": "text/x-python",
   "name": "python",
   "nbconvert_exporter": "python",
   "pygments_lexer": "ipython3",
   "version": "3.8.3"
  }
 },
 "nbformat": 4,
 "nbformat_minor": 4
}
